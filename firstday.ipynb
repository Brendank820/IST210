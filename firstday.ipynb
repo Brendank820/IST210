{
  "nbformat": 4,
  "nbformat_minor": 0,
  "metadata": {
    "colab": {
      "name": "firstday.ipynb",
      "provenance": [],
      "authorship_tag": "ABX9TyO8JhfJh8aeSuBVauiG5vUd",
      "include_colab_link": true
    },
    "kernelspec": {
      "name": "python3",
      "display_name": "Python 3"
    }
  },
  "cells": [
    {
      "cell_type": "markdown",
      "metadata": {
        "id": "view-in-github",
        "colab_type": "text"
      },
      "source": [
        "<a href=\"https://colab.research.google.com/github/Brendank820/IST210/blob/master/firstday.ipynb\" target=\"_parent\"><img src=\"https://colab.research.google.com/assets/colab-badge.svg\" alt=\"Open In Colab\"/></a>"
      ]
    },
    {
      "cell_type": "code",
      "metadata": {
        "id": "YuZQsF6-zLkh",
        "colab_type": "code",
        "colab": {
          "base_uri": "https://localhost:8080/",
          "height": 34
        },
        "outputId": "7734f2c6-14b8-48de-ccfa-67a6fb8f4ab9"
      },
      "source": [
        "2+2"
      ],
      "execution_count": 4,
      "outputs": [
        {
          "output_type": "execute_result",
          "data": {
            "text/plain": [
              "4"
            ]
          },
          "metadata": {
            "tags": []
          },
          "execution_count": 4
        }
      ]
    },
    {
      "cell_type": "code",
      "metadata": {
        "id": "rjIY81U8zvTf",
        "colab_type": "code",
        "colab": {
          "base_uri": "https://localhost:8080/",
          "height": 34
        },
        "outputId": "eaaa8a48-f71b-492d-8fa2-21021bc4af27"
      },
      "source": [
        "2+3"
      ],
      "execution_count": 5,
      "outputs": [
        {
          "output_type": "execute_result",
          "data": {
            "text/plain": [
              "5"
            ]
          },
          "metadata": {
            "tags": []
          },
          "execution_count": 5
        }
      ]
    },
    {
      "cell_type": "markdown",
      "metadata": {
        "id": "ZXEKlBuo0A8q",
        "colab_type": "text"
      },
      "source": [
        "This is my first notebook"
      ]
    },
    {
      "cell_type": "markdown",
      "metadata": {
        "id": "tjsTex1U0Sjr",
        "colab_type": "text"
      },
      "source": [
        "this is **bold**"
      ]
    },
    {
      "cell_type": "markdown",
      "metadata": {
        "id": "5TxaqVQz0w9I",
        "colab_type": "text"
      },
      "source": [
        "## this is a header ##"
      ]
    },
    {
      "cell_type": "markdown",
      "metadata": {
        "id": "jH93s5l_4rec",
        "colab_type": "text"
      },
      "source": [
        "raw.githubusercontent.com/Brendank820/IST210/master/introduction/8670371.jpg\n"
      ]
    }
  ]
}