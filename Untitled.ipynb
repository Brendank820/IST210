{
  "nbformat": 4,
  "nbformat_minor": 0,
  "metadata": {
    "colab": {
      "name": "Untitled",
      "provenance": [],
      "collapsed_sections": [],
      "authorship_tag": "ABX9TyMg04LX2ei1wAHF3CsH7nUk",
      "include_colab_link": true
    },
    "kernelspec": {
      "name": "python3",
      "display_name": "Python 3"
    }
  },
  "cells": [
    {
      "cell_type": "markdown",
      "metadata": {
        "id": "view-in-github",
        "colab_type": "text"
      },
      "source": [
        "<a href=\"https://colab.research.google.com/github/Brendank820/IST210/blob/master/Untitled.ipynb\" target=\"_parent\"><img src=\"https://colab.research.google.com/assets/colab-badge.svg\" alt=\"Open In Colab\"/></a>"
      ]
    },
    {
      "cell_type": "markdown",
      "metadata": {
        "id": "TekNiLSvFdLZ",
        "colab_type": "text"
      },
      "source": [
        "https://github.com/Brendank820/IST210/blob/master/Lab%202_%20Pet%20Shop%20ER%20Diagram.png\n"
      ]
    },
    {
      "cell_type": "markdown",
      "metadata": {
        "id": "FJ7X28WiFitH",
        "colab_type": "text"
      },
      "source": [
        "My pet shop ER diagram was designed in a manner that proves that every table is reliant upon eachother table. This is because that for every category under each data set they are all reliant on eachother, you cannot sell pet food without customers and you cannot have enclosures without pets, and so on. My diagram is spread out evenly to best represent this idea of inner dependency of sub categories within the pet shop. Linking primary keys to parent keys was a primary concept to do on the ER diagram. The primary key for the customers was loyalty ID and that matched with loyalty ID in transaction of pet sales table. This is a relationship but it is weak because there was only one primary key. This happens to be the case for all of the other connections aswell in the diagram because all of the primary keys that conect are not connected to primary keys of other tables. An important weak relationship that should be noted is in the customers table. This is a weak relationship because, the parent entity in the customers table (loyalty contract) is linked with the primary key of loyalty contract in the loyalty program table. Yet another weak relationship is pet transactions (the pet code) the primary key and the parent entity (pet code) in the enclosures table, this is a one optional to many manditory conection, but due to them not matching iwth the primary keys in each table it is a weak relationship. LAstly as seen above all connections have the verbs that match their purpose and direct connection to make sense of the ER diagram as a whole. Overall this is my Pet Store ER diagram.  "
      ]
    }
  ]
}