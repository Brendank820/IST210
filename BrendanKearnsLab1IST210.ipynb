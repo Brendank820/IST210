{
  "nbformat": 4,
  "nbformat_minor": 0,
  "metadata": {
    "colab": {
      "name": "BrendanKearnsLab1IST210.ipynb",
      "provenance": [],
      "authorship_tag": "ABX9TyMat1ZIiZ+6G1dDp6cl/G3B",
      "include_colab_link": true
    },
    "kernelspec": {
      "name": "python3",
      "display_name": "Python 3"
    }
  },
  "cells": [
    {
      "cell_type": "markdown",
      "metadata": {
        "id": "view-in-github",
        "colab_type": "text"
      },
      "source": [
        "<a href=\"https://colab.research.google.com/github/Brendank820/IST210/blob/master/BrendanKearnsLab1IST210.ipynb\" target=\"_parent\"><img src=\"https://colab.research.google.com/assets/colab-badge.svg\" alt=\"Open In Colab\"/></a>"
      ]
    },
    {
      "cell_type": "markdown",
      "metadata": {
        "id": "fv4fscqDGPGx",
        "colab_type": "text"
      },
      "source": [
        "## Name ##\n",
        "\n",
        "Brendan Kearns"
      ]
    },
    {
      "cell_type": "markdown",
      "metadata": {
        "id": "adTf3I3iGVr0",
        "colab_type": "text"
      },
      "source": [
        "## IST related interests ##\n",
        "\n",
        "I enjoy many aspects of Information Sciences and Technology. I think it is really important to apply real life data and use that information to better not only private corporations, but government and society. Efficiencies that are created as a result of IST help make the world a better place. I also enjoy technology and use it on a daily basis to consume content I care about. "
      ]
    },
    {
      "cell_type": "markdown",
      "metadata": {
        "id": "5dnlxp3-Gad6",
        "colab_type": "text"
      },
      "source": [
        "## Future Job/Career ##\n",
        "\n",
        "Unfortuatley I do not know exactly what I want to do as a profession after college; however, my career will definitley pertatin to my Security and Risk Analysis major. Ideally I would like some kind of government job that deals with data analysis. I am really interested in geography, so if I could get a job that deals with data anylsis of certain U.S regions I would really enjoy that. "
      ]
    },
    {
      "cell_type": "markdown",
      "metadata": {
        "id": "zw8dhV46MfU1",
        "colab_type": "text"
      },
      "source": [
        "![alt text](https://github.com/Brendank820/IST210/blob/master/download.jpg?raw=1)"
      ]
    }
  ]
}